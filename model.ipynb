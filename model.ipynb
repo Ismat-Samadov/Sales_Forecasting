{
 "cells": [
  {
   "cell_type": "code",
   "execution_count": null,
   "metadata": {},
   "outputs": [],
   "source": []
  },
  {
   "cell_type": "code",
   "execution_count": 22,
   "metadata": {},
   "outputs": [],
   "source": [
    "# import pandas as pd\n",
    "\n",
    "# # Load the dataset\n",
    "# df = pd.read_excel('data/Adidas US Sales Datasets.xlsx')\n",
    "\n",
    "# # Display basic information about the dataset\n",
    "# print(df.info())\n",
    "\n",
    "# # Display the first few rows to understand the data\n",
    "# print(df.head())\n",
    "\n",
    "# file_path = 'data/Adidas US Sales Datasets.xlsx'\n",
    "\n",
    "# # Load the Excel file and check the sheet names\n",
    "# xls = pd.ExcelFile(file_path)\n",
    "# xls.sheet_names\n",
    "\n",
    "# # Clean the dataset by skipping the initial empty rows and using the correct headers\n",
    "# df = pd.read_excel(file_path, sheet_name='Data Sales Adidas', skiprows=4)\n",
    "\n",
    "# # Display the cleaned data to confirm the structure\n",
    "# df.head()\n",
    "\n",
    "# df=df.drop(columns=['Unnamed: 0','Retailer ID'])\n",
    "\n",
    "# # Save the cleaned dataset to a CSV file\n",
    "# output_csv_path = 'data/Adidas_US_Sales_Cleaned.csv'\n",
    "# df.to_csv(output_csv_path, index=False)\n",
    "\n",
    "# output_csv_path\n",
    "\n"
   ]
  },
  {
   "cell_type": "code",
   "execution_count": 25,
   "metadata": {},
   "outputs": [
    {
     "data": {
      "text/plain": [
       "(np.float64(1253241097.91393),\n",
       " array([991.90177354, 221.33278234,   1.62362108]))"
      ]
     },
     "execution_count": 25,
     "metadata": {},
     "output_type": "execute_result"
    }
   ],
   "source": [
    "import pandas as pd\n",
    "from sklearn.model_selection import train_test_split\n",
    "from sklearn.linear_model import LinearRegression\n",
    "from sklearn.metrics import mean_squared_error\n",
    "import joblib\n",
    "\n",
    "# Load the user's uploaded CSV file\n",
    "file_path = 'data/Adidas_US_Sales_Cleaned.csv'\n",
    "data = pd.read_csv(file_path)\n",
    "\n",
    "\n",
    "\n",
    "# Selecting relevant features for the model (dropping non-numeric and categorical data)\n",
    "# We'll predict 'Total Sales' based on 'Price per Unit', 'Units Sold', and 'Operating Profit'\n",
    "X = data[['Price per Unit', 'Units Sold', 'Operating Profit']]\n",
    "y = data['Total Sales']\n",
    "\n",
    "# Splitting the data into training and testing sets\n",
    "X_train, X_test, y_train, y_test = train_test_split(X, y, test_size=0.2, random_state=42)\n",
    "\n",
    "# Creating and training the Linear Regression model\n",
    "model = LinearRegression()\n",
    "model.fit(X_train, y_train)\n",
    "\n",
    "# Making predictions on the test data\n",
    "y_pred = model.predict(X_test)\n",
    "\n",
    "# Save the trained model to a file using joblib\n",
    "model_file_path = 'data/linear_regression_model.pkl'\n",
    "joblib.dump(model, model_file_path)\n",
    "\n",
    "# Calculating the model's performance using Mean Squared Error (MSE)\n",
    "mse = mean_squared_error(y_test, y_pred)\n",
    "\n",
    "# Coefficients of the model\n",
    "coefficients = model.coef_\n",
    "\n",
    "# Displaying the results\n",
    "mse, coefficients"
   ]
  }
 ],
 "metadata": {
  "kernelspec": {
   "display_name": ".venv",
   "language": "python",
   "name": "python3"
  },
  "language_info": {
   "codemirror_mode": {
    "name": "ipython",
    "version": 3
   },
   "file_extension": ".py",
   "mimetype": "text/x-python",
   "name": "python",
   "nbconvert_exporter": "python",
   "pygments_lexer": "ipython3",
   "version": "3.12.7"
  }
 },
 "nbformat": 4,
 "nbformat_minor": 2
}
