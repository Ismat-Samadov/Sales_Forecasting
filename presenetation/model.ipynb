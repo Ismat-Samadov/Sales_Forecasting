{
 "cells": [
  {
   "cell_type": "code",
   "execution_count": null,
   "metadata": {},
   "outputs": [],
   "source": [
    "# Importing necessary libraries\n",
    "import pandas as pd\n",
    "import numpy as np\n",
    "\n",
    "import matplotlib.pyplot as plt\n",
    "import seaborn as sns\n",
    "\n",
    "from sklearn.model_selection import train_test_split\n",
    "from sklearn.linear_model import LinearRegression\n",
    "from sklearn.metrics import mean_squared_error\n",
    "from sklearn.preprocessing import StandardScaler\n",
    "\n",
    "import joblib\n",
    "import optuna\n",
    "optuna.logging.set_verbosity(optuna.logging.WARNING)\n",
    "\n",
    "import warnings\n",
    "warnings.filterwarnings(\"ignore\")"
   ]
  },
  {
   "cell_type": "code",
   "execution_count": null,
   "metadata": {},
   "outputs": [],
   "source": [
    "# Load the Excel file (skipping the first 3 rows containing the Adidas logo)\n",
    "file_path = '/data/\n",
    "data = pd.read_excel(file_path, skiprows=4)  # Skip first 3 rows (index starts at 0)\n",
    "\n",
    "# Preview the data\n",
    "data.head()"
   ]
  },
  {
   "cell_type": "code",
   "execution_count": null,
   "metadata": {},
   "outputs": [],
   "source": [
    "# Selecting the relevant features (adjust columns according to your dataset)\n",
    "X = data[['Price per Unit', 'Units Sold', 'Operating Profit']]\n",
    "y = data['Total Sales']"
   ]
  },
  {
   "cell_type": "code",
   "execution_count": null,
   "metadata": {},
   "outputs": [],
   "source": [
    "linkcode\n",
    "# Scaling the features (StandardScaler is used for this example)\n",
    "scaler = StandardScaler()\n",
    "X_scaled = scaler.fit_transform(X)"
   ]
  },
  {
   "cell_type": "code",
   "execution_count": null,
   "metadata": {},
   "outputs": [],
   "source": [
    "# Splitting the data into training and testing sets\n",
    "X_train, X_test, y_train, y_test = train_test_split(X_scaled, y, test_size=0.2, random_state=42)\n",
    "X_train, X_test, y_train, y_test "
   ]
  },
  {
   "cell_type": "code",
   "execution_count": null,
   "metadata": {},
   "outputs": [],
   "source": [
    "# Define the objective function for Optuna\n",
    "def objective(trial):\n",
    "    # Model parameters to optimize\n",
    "    fit_intercept = trial.suggest_categorical('fit_intercept', [True, False])\n",
    "    \n",
    "    # Create a linear regression model with the trial parameters\n",
    "    model = LinearRegression(fit_intercept=fit_intercept)\n",
    "    \n",
    "    # Train the model\n",
    "    model.fit(X_train, y_train)\n",
    "    \n",
    "    # Predict on the test set\n",
    "    y_pred = model.predict(X_test)\n",
    "    \n",
    "    # Calculate Mean Squared Error\n",
    "    mse = mean_squared_error(y_test, y_pred)\n",
    "    \n",
    "    return mse\n",
    "\n",
    "# Create the Optuna study and optimize it\n",
    "study = optuna.create_study(direction='minimize')\n",
    "study.optimize(objective, n_trials=50)\n",
    "\n",
    "# Best parameters from Optuna\n",
    "best_params = study.best_params\n",
    "print(\"Best Parameters: \", best_params)"
   ]
  },
  {
   "cell_type": "code",
   "execution_count": null,
   "metadata": {},
   "outputs": [],
   "source": [
    "# Train the final model with the best parameters\n",
    "final_model = LinearRegression(**best_params)\n",
    "final_model.fit(X_train, y_train)"
   ]
  },
  {
   "cell_type": "code",
   "execution_count": null,
   "metadata": {},
   "outputs": [],
   "source": [
    "# Calculate final model performance\n",
    "final_mse = mean_squared_error(y_test, final_model.predict(X_test))\n",
    "print(f\"Final Mean Squared Error (MSE): {final_mse}\")"
   ]
  },
  {
   "cell_type": "code",
   "execution_count": null,
   "metadata": {},
   "outputs": [],
   "source": [
    "# Save the trained model\n",
    "model_file_path = 'linear_regression_model.pkl'\n",
    "joblib.dump(final_model, model_file_path)"
   ]
  },
  {
   "cell_type": "code",
   "execution_count": null,
   "metadata": {},
   "outputs": [],
   "source": [
    "# Load the saved model\n",
    "saved_model = joblib.load('linear_regression_model.pkl')\n",
    "\n",
    "# Using test data from the dataset for predictions\n",
    "example_data = X_test[:5]  # Using the first 5 rows of the test set\n",
    "actual_values = y_test[:5]\n",
    "\n",
    "# Making predictions\n",
    "predicted_values = saved_model.predict(example_data)\n",
    "\n",
    "# Comparing the actual vs predicted values\n",
    "comparison_df = pd.DataFrame({\n",
    "    'Actual Values': actual_values,\n",
    "    'Predicted Values': predicted_values\n",
    "})\n",
    "\n",
    "# Display the comparison\n",
    "print(\"Comparison of Actual vs Predicted Values:\")\n",
    "print(comparison_df)\n",
    "\n",
    "\n",
    "# Further Analysis: Predictions vs Actual for a random test sample\n",
    "sample_test = X_test[10:15]  # Select a random subset from the test set\n",
    "sample_actual = y_test[10:15]\n",
    "\n",
    "sample_predicted = saved_model.predict(sample_test)\n",
    "\n",
    "# Creating a DataFrame for comparison\n",
    "sample_comparison_df = pd.DataFrame({\n",
    "    'Actual Sales': sample_actual,\n",
    "    'Predicted Sales': sample_predicted\n",
    "})\n",
    "\n",
    "print(\"Sample Comparison for Random Test Data:\")\n",
    "print(sample_comparison_df)"
   ]
  },
  {
   "cell_type": "code",
   "execution_count": null,
   "metadata": {},
   "outputs": [],
   "source": []
  },
  {
   "cell_type": "code",
   "execution_count": null,
   "metadata": {},
   "outputs": [],
   "source": []
  }
 ],
 "metadata": {
  "kernelspec": {
   "display_name": ".venv",
   "language": "python",
   "name": "python3"
  },
  "language_info": {
   "name": "python",
   "version": "3.13.0"
  }
 },
 "nbformat": 4,
 "nbformat_minor": 2
}
