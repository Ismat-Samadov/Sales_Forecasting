{
 "cells": [
  {
   "cell_type": "code",
   "execution_count": 5,
   "metadata": {},
   "outputs": [
    {
     "name": "stdout",
     "output_type": "stream",
     "text": [
      "Linear Regression:\n",
      "RMSE: 0.005187915357340992\n",
      "R-squared: 0.9999916063331278\n",
      "\n",
      "Decision Tree:\n",
      "RMSE: 0.7295054064508728\n",
      "R-squared: 0.8340325218394546\n",
      "\n",
      "Random Forest:\n",
      "RMSE: 0.7121855230914278\n",
      "R-squared: 0.841819753495406\n",
      "\n",
      "XGBoost:\n",
      "RMSE: 0.7786799676398508\n",
      "R-squared: 0.8109032913868871\n"
     ]
    },
    {
     "data": {
      "text/plain": [
       "array([0.16687323, 0.39581677, 0.02217262, ..., 0.918934  , 0.05432508,\n",
       "       0.21571656], dtype=float32)"
      ]
     },
     "execution_count": 5,
     "metadata": {},
     "output_type": "execute_result"
    }
   ],
   "source": [
    "# Importing necessary libraries\n",
    "import pandas as pd\n",
    "import numpy as np\n",
    "from sklearn.model_selection import train_test_split\n",
    "from sklearn.preprocessing import LabelEncoder\n",
    "from sklearn.linear_model import LinearRegression\n",
    "from sklearn.tree import DecisionTreeRegressor\n",
    "from sklearn.ensemble import RandomForestRegressor\n",
    "from xgboost import XGBRegressor\n",
    "from sklearn.metrics import mean_squared_error, r2_score\n",
    "\n",
    "# Load the dataset\n",
    "df = pd.read_csv('data/vgsales.csv')\n",
    "\n",
    "# Data Preprocessing\n",
    "# Fill missing values in 'Year' with the median year\n",
    "df['Year'] = df['Year'].fillna(df['Year'].median())\n",
    "\n",
    "# Encoding categorical variables like 'Platform', 'Genre', and 'Publisher'\n",
    "label_encoders = {}\n",
    "for column in ['Platform', 'Genre', 'Publisher']:\n",
    "    le = LabelEncoder()\n",
    "    df[column] = le.fit_transform(df[column].astype(str))\n",
    "    label_encoders[column] = le\n",
    "\n",
    "# Defining the feature set and the target variable\n",
    "X = df[['Platform', 'Year', 'Genre', 'NA_Sales', 'EU_Sales', 'JP_Sales', 'Other_Sales']]\n",
    "y = df['Global_Sales']\n",
    "\n",
    "# Splitting the data into training and test sets\n",
    "X_train, X_test, y_train, y_test = train_test_split(X, y, test_size=0.3, random_state=42)\n",
    "\n",
    "# Function to evaluate models\n",
    "def evaluate_model(model, X_test, y_test):\n",
    "    y_pred = model.predict(X_test)\n",
    "    mse = mean_squared_error(y_test, y_pred)\n",
    "    rmse = np.sqrt(mse)\n",
    "    r2 = r2_score(y_test, y_pred)\n",
    "    print(f\"RMSE: {rmse}\")\n",
    "    print(f\"R-squared: {r2}\")\n",
    "    return y_pred\n",
    "\n",
    "# 1. Linear Regression\n",
    "print(\"Linear Regression:\")\n",
    "lr = LinearRegression()\n",
    "lr.fit(X_train, y_train)\n",
    "evaluate_model(lr, X_test, y_test)\n",
    "\n",
    "# 2. Decision Tree\n",
    "print(\"\\nDecision Tree:\")\n",
    "dt = DecisionTreeRegressor(random_state=42)\n",
    "dt.fit(X_train, y_train)\n",
    "evaluate_model(dt, X_test, y_test)\n",
    "\n",
    "# 3. Random Forest\n",
    "print(\"\\nRandom Forest:\")\n",
    "rf = RandomForestRegressor(n_estimators=100, random_state=42)\n",
    "rf.fit(X_train, y_train)\n",
    "evaluate_model(rf, X_test, y_test)\n",
    "\n",
    "# 4. XGBoost\n",
    "print(\"\\nXGBoost:\")\n",
    "xgb = XGBRegressor(n_estimators=100, random_state=42)\n",
    "xgb.fit(X_train, y_train)\n",
    "evaluate_model(xgb, X_test, y_test)\n"
   ]
  },
  {
   "cell_type": "code",
   "execution_count": null,
   "metadata": {},
   "outputs": [],
   "source": []
  },
  {
   "cell_type": "code",
   "execution_count": null,
   "metadata": {},
   "outputs": [],
   "source": []
  },
  {
   "cell_type": "code",
   "execution_count": null,
   "metadata": {},
   "outputs": [],
   "source": []
  },
  {
   "cell_type": "code",
   "execution_count": null,
   "metadata": {},
   "outputs": [],
   "source": []
  },
  {
   "cell_type": "code",
   "execution_count": null,
   "metadata": {},
   "outputs": [],
   "source": []
  },
  {
   "cell_type": "code",
   "execution_count": null,
   "metadata": {},
   "outputs": [],
   "source": []
  },
  {
   "cell_type": "code",
   "execution_count": null,
   "metadata": {},
   "outputs": [],
   "source": []
  },
  {
   "cell_type": "code",
   "execution_count": null,
   "metadata": {},
   "outputs": [],
   "source": []
  },
  {
   "cell_type": "code",
   "execution_count": null,
   "metadata": {},
   "outputs": [],
   "source": []
  },
  {
   "cell_type": "code",
   "execution_count": null,
   "metadata": {},
   "outputs": [],
   "source": []
  },
  {
   "cell_type": "code",
   "execution_count": null,
   "metadata": {},
   "outputs": [],
   "source": []
  },
  {
   "cell_type": "code",
   "execution_count": null,
   "metadata": {},
   "outputs": [],
   "source": []
  }
 ],
 "metadata": {
  "kernelspec": {
   "display_name": ".venv",
   "language": "python",
   "name": "python3"
  },
  "language_info": {
   "codemirror_mode": {
    "name": "ipython",
    "version": 3
   },
   "file_extension": ".py",
   "mimetype": "text/x-python",
   "name": "python",
   "nbconvert_exporter": "python",
   "pygments_lexer": "ipython3",
   "version": "3.12.7"
  }
 },
 "nbformat": 4,
 "nbformat_minor": 2
}
